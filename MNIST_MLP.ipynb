{
  "nbformat": 4,
  "nbformat_minor": 0,
  "metadata": {
    "colab": {
      "name": "MNIST-MLP.ipynb",
      "version": "0.3.2",
      "provenance": [],
      "collapsed_sections": [],
      "toc_visible": true,
      "include_colab_link": true
    },
    "kernelspec": {
      "name": "python3",
      "display_name": "Python 3"
    },
    "accelerator": "GPU"
  },
  "cells": [
    {
      "cell_type": "markdown",
      "metadata": {
        "id": "view-in-github",
        "colab_type": "text"
      },
      "source": [
        "<a href=\"https://colab.research.google.com/github/sanatsingh/MLP/blob/master/MNIST_MLP.ipynb\" target=\"_parent\"><img src=\"https://colab.research.google.com/assets/colab-badge.svg\" alt=\"Open In Colab\"/></a>"
      ]
    },
    {
      "metadata": {
        "id": "fciiBYjTDGyY",
        "colab_type": "text"
      },
      "cell_type": "markdown",
      "source": [
        "#**Digit Classification using MLP on MNIST dataset**\n"
      ]
    },
    {
      "metadata": {
        "id": "h8OwgJemDSAr",
        "colab_type": "code",
        "colab": {}
      },
      "cell_type": "code",
      "source": [
        "#importing libraries\n",
        "import torch\n",
        "import numpy as np\n",
        "from torch import nn, optim\n",
        "from torch.utils.data.sampler import SubsetRandomSampler\n",
        "from torchvision import datasets, transforms\n",
        "from collections import OrderedDict"
      ],
      "execution_count": 0,
      "outputs": []
    },
    {
      "metadata": {
        "id": "KIwoHeOAH8DO",
        "colab_type": "text"
      },
      "cell_type": "markdown",
      "source": [
        "## Loading Data\n",
        " Data split in :\n",
        "\n",
        "*   Training set\n",
        "*   Validation set \n",
        "*   Test set\n",
        "\n",
        "\n",
        "\n",
        "\n"
      ]
    },
    {
      "metadata": {
        "id": "9jLs7BhlEl6Z",
        "colab_type": "code",
        "colab": {}
      },
      "cell_type": "code",
      "source": [
        "trf = transforms.Compose([transforms.ToTensor(),\n",
        "                          transforms.Normalize((0.5, 0.5, 0.5), (0.5, 0.5, 0.5)),\n",
        "                         ])\n",
        "traindataset = datasets.MNIST('~/Mnist_data/', download=True, train=True, transform=trf)\n",
        "\n",
        "testdataset = datasets.MNIST('~/Mnist_data/', download=True, train=False, transform=trf)\n"
      ],
      "execution_count": 0,
      "outputs": []
    },
    {
      "metadata": {
        "id": "4q5ziT4en_BF",
        "colab_type": "code",
        "colab": {}
      },
      "cell_type": "code",
      "source": [
        "valid_size=0.2\n",
        "\n",
        "n_train=len(traindataset)\n",
        "indices = list(range(n_train))\n",
        "np.random.shuffle(indices)\n",
        "split = int(np.floor(valid_size*n_train)) #No of train sets\n",
        "\n",
        "train_ind , valid_ind = indices[split:] , indices[:split] #Spliting of indices\n",
        "\n",
        "trainsampler = SubsetRandomSampler(train_ind)\n",
        "validsampler = SubsetRandomSampler(valid_ind)\n",
        "\n",
        "trainloader = torch.utils.data.DataLoader(traindataset, batch_size=40, sampler=trainsampler)\n",
        "validloader = torch.utils.data.DataLoader(traindataset, batch_size=40, sampler=validsampler)\n",
        "testloader = torch.utils.data.DataLoader(testdataset, batch_size=40)"
      ],
      "execution_count": 0,
      "outputs": []
    },
    {
      "metadata": {
        "id": "2nsSGI6BS24e",
        "colab_type": "text"
      },
      "cell_type": "markdown",
      "source": [
        "## Visualizing Data"
      ]
    },
    {
      "metadata": {
        "id": "3jxRR_KeS7uN",
        "colab_type": "code",
        "colab": {}
      },
      "cell_type": "code",
      "source": [
        "import matplotlib.pyplot as plt\n",
        "%matplotlib inline\n",
        "\n",
        "def disp(x):\n",
        "    x = x / 2 + 0.5 #unnormalizing image\n",
        "    plt.imshow(x.numpy().squeeze(), cmap='Greys_r')"
      ],
      "execution_count": 0,
      "outputs": []
    },
    {
      "metadata": {
        "id": "aLRKzJCNvI1R",
        "colab_type": "code",
        "outputId": "c962b0d1-c767-4f42-c53c-40df267cb596",
        "colab": {
          "base_uri": "https://localhost:8080/",
          "height": 165
        }
      },
      "cell_type": "code",
      "source": [
        "images , labels = next(iter(trainloader))\n",
        "\n",
        "fig = plt.figure(figsize=(25, 4))\n",
        "\n",
        "for idx in np.arange(10):\n",
        "    ax = fig.add_subplot(2, 20/2, idx+1, xticks=[], yticks=[])\n",
        "    disp(images[idx])\n",
        "    ax.set_title(int(labels[idx]))"
      ],
      "execution_count": 0,
      "outputs": [
        {
          "output_type": "display_data",
          "data": {
            "image/png": "[encoded data removed]",
            "text/plain": [
              "<Figure size 1800x288 with 10 Axes>"
            ]
          },
          "metadata": {
            "tags": []
          }
        }
      ]
    },
    {
      "metadata": {
        "id": "DgV3jRJSI8tI",
        "colab_type": "text"
      },
      "cell_type": "markdown",
      "source": [
        "## Defining  Model, Criterion and Optimizers"
      ]
    },
    {
      "metadata": {
        "id": "Rgz-xNczINOC",
        "colab_type": "code",
        "colab": {}
      },
      "cell_type": "code",
      "source": [
        "#Dropout = 0.2, 1 input layer, 2 hidden layers with ReLU as activation function\n",
        "class MLP_net(nn.Module):\n",
        "    def __init__(self):\n",
        "        \n",
        "        super().__init__()\n",
        "        \n",
        "        self.fc1 = nn.Linear(784,256)\n",
        "        self.fc2 = nn.Linear(256,128)\n",
        "        self.output = nn.Linear(128,10)\n",
        "        self.act = nn.ReLU()\n",
        "        self.dropout = nn.Dropout(0.20)\n",
        "    \n",
        "    def forward(self,x):\n",
        "        x = x.view(x.shape[0],-1)\n",
        "        x = self.dropout(self.act(self.fc1(x)))\n",
        "        x = self.dropout(self.act(self.fc2(x)))\n",
        "        x = self.output(x)\n",
        "        return x\n",
        "\n",
        "model = MLP_net()\n",
        "criterion = nn.CrossEntropyLoss()\n",
        "optimizer = optim.Adam(model.parameters(),lr=0.001)\n",
        "epochs = 80"
      ],
      "execution_count": 0,
      "outputs": []
    },
    {
      "metadata": {
        "id": "nMmZFOQuTzbo",
        "colab_type": "text"
      },
      "cell_type": "markdown",
      "source": [
        "## Training the model"
      ]
    },
    {
      "metadata": {
        "id": "0gBxpJZ0QEEM",
        "colab_type": "code",
        "colab": {}
      },
      "cell_type": "code",
      "source": [
        "# trgpu = torch.cuda.is_available()\n",
        "\n",
        "# if not trgpu:\n",
        "#     print('CUDA is not available')\n",
        "# else:\n",
        "#     print('CUDA is available! Training on GPU ...')"
      ],
      "execution_count": 0,
      "outputs": []
    },
    {
      "metadata": {
        "id": "b8whKETTAdwH",
        "colab_type": "code",
        "outputId": "57166be3-9446-4689-e505-0e6ae1f858ea",
        "colab": {
          "base_uri": "https://localhost:8080/",
          "height": 129
        }
      },
      "cell_type": "code",
      "source": [
        "model.cuda()\n",
        "\n",
        "v_loss_min = np.Inf\n",
        "\n",
        "train_losses, valid_losses = [], []\n",
        "\n",
        "for i in range(1, epochs+1):\n",
        "    \n",
        "    train_loss=0.0\n",
        "    valid_loss=0.0\n",
        "    \n",
        "    model.train()\n",
        "    for data,target in trainloader:\n",
        "        data,target = data.cuda(),target.cuda()\n",
        "        optimizer.zero_grad()\n",
        "        output = model(data)\n",
        "        loss = criterion(output,target)\n",
        "        loss.backward()\n",
        "        optimizer.step()\n",
        "        train_loss += loss.item()\n",
        "\n",
        "    model.eval()\n",
        "    for v_data,v_target in validloader:\n",
        "        v_data,v_target = v_data.cuda(),v_target.cuda()\n",
        "        v_output  = model(v_data)\n",
        "        v_loss = criterion(v_output,v_target)\n",
        "        valid_loss += v_loss.item()\n",
        "        \n",
        "    train_loss = train_loss/len(trainloader)\n",
        "    valid_loss = valid_loss/len(validloader)\n",
        "    \n",
        "    train_losses.append(train_loss)\n",
        "    valid_losses.append(valid_loss)\n",
        "    \n",
        "    print(f'Epoch:{i}/{epochs} || Train Loss:{train_loss} || Valid Loss:{valid_loss}')\n",
        "    \n",
        "    if valid_loss <= v_loss_min :\n",
        "        print(f'Validation Loss decreased {v_loss_min} ==> {valid_loss} , Saving Model....')\n",
        "        torch.save(model.state_dict(), 'model_mnist.pt')\n",
        "        v_loss_min = valid_loss"
      ],
      "execution_count": 0,
      "outputs": [
        {
          "output_type": "stream",
          "text": [
            "Epoch:1/80 || Train Loss:0.41381444714963433 || Valid Loss:0.1976612486752371\n",
            "Validation Loss decreased inf ==> 0.1976612486752371 , Saving Model....\n",
            "Epoch:2/80 || Train Loss:0.22143998970122386 || Valid Loss:0.15307112343609333\n",
            "Validation Loss decreased 0.1976612486752371 ==> 0.15307112343609333 , Saving Model....\n",
            "Epoch:3/80 || Train Loss:0.1829129484241518 || Valid Loss:0.14747638049225012\n",
            "Validation Loss decreased 0.15307112343609333 ==> 0.14747638049225012 , Saving Model....\n"
          ],
          "name": "stdout"
        }
      ]
    },
    {
      "metadata": {
        "id": "hMRKYE5LTjqY",
        "colab_type": "text"
      },
      "cell_type": "markdown",
      "source": [
        "## Visualizing the Train Loss and Validation Loss"
      ]
    },
    {
      "metadata": {
        "id": "LuGmbbCOTqxC",
        "colab_type": "code",
        "colab": {}
      },
      "cell_type": "code",
      "source": [
        "plt.plot(train_losses, label='Training loss')\n",
        "plt.plot(valid_losses, label='Validation loss')\n",
        "plt.legend(frameon=False)"
      ],
      "execution_count": 0,
      "outputs": []
    },
    {
      "metadata": {
        "id": "fzpActTTV425",
        "colab_type": "text"
      },
      "cell_type": "markdown",
      "source": [
        "## Loading the model with lowest validation loss"
      ]
    },
    {
      "metadata": {
        "id": "nvCvKhqdV9aq",
        "colab_type": "code",
        "colab": {}
      },
      "cell_type": "code",
      "source": [
        "model.load_state_dict(torch.load('model_mnist.pt'))"
      ],
      "execution_count": 0,
      "outputs": []
    },
    {
      "metadata": {
        "id": "mM27RMfnX65X",
        "colab_type": "text"
      },
      "cell_type": "markdown",
      "source": [
        "## Testing the model "
      ]
    },
    {
      "metadata": {
        "id": "i9gBX36AmJeU",
        "colab_type": "code",
        "colab": {}
      },
      "cell_type": "code",
      "source": [
        "test_loss=0.0\n",
        "model.eval()\n",
        "\n",
        "for idx,(data,target) in enumerate(testloader):\n",
        "    data, target = data.cuda(), target.cuda()\n",
        "    output = model(data)\n",
        "    loss = criterion(output,target)\n",
        "    "
      ],
      "execution_count": 0,
      "outputs": []
    },
    {
      "metadata": {
        "id": "ilQ9Q0SxaTk8",
        "colab_type": "code",
        "colab": {}
      },
      "cell_type": "code",
      "source": [
        "# from sklearn.metrics import confusion_matrix\n",
        "\n",
        "# cm = confusion_matrix(y_test,y_pred)\n",
        "# print(cm)"
      ],
      "execution_count": 0,
      "outputs": []
    }
  ]
}