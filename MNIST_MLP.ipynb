{
  "nbformat": 4,
  "nbformat_minor": 0,
  "metadata": {
    "colab": {
      "name": "MNIST-MLP.ipynb",
      "version": "0.3.2",
      "provenance": [],
      "collapsed_sections": [],
      "toc_visible": true,
      "include_colab_link": true
    },
    "kernelspec": {
      "name": "python3",
      "display_name": "Python 3"
    },
    "accelerator": "GPU"
  },
  "cells": [
    {
      "cell_type": "markdown",
      "metadata": {
        "id": "view-in-github",
        "colab_type": "text"
      },
      "source": [
        "<a href=\"https://colab.research.google.com/github/sanatsingh/MLP/blob/master/MNIST_MLP.ipynb\" target=\"_parent\"><img src=\"https://colab.research.google.com/assets/colab-badge.svg\" alt=\"Open In Colab\"/></a>"
      ]
    },
    {
      "metadata": {
        "id": "fciiBYjTDGyY",
        "colab_type": "text"
      },
      "cell_type": "markdown",
      "source": [
        "#**Digit Classification using MLP on MNIST dataset**\n"
      ]
    },
    {
      "metadata": {
        "id": "h8OwgJemDSAr",
        "colab_type": "code",
        "colab": {}
      },
      "cell_type": "code",
      "source": [
        "#importing libraries\n",
        "import torch\n",
        "import numpy as np\n",
        "from torch import nn, optim\n",
        "from torch.utils.data.sampler import SubsetRandomSampler\n",
        "from torchvision import datasets, transforms\n",
        "from collections import OrderedDict"
      ],
      "execution_count": 0,
      "outputs": []
    },
    {
      "metadata": {
        "id": "KIwoHeOAH8DO",
        "colab_type": "text"
      },
      "cell_type": "markdown",
      "source": [
        "## Loading Data\n",
        " Data split in :\n",
        "\n",
        "*   Training set\n",
        "*   Validation set \n",
        "*   Test set\n",
        "\n",
        "\n",
        "\n",
        "\n"
      ]
    },
    {
      "metadata": {
        "id": "9jLs7BhlEl6Z",
        "colab_type": "code",
        "colab": {
          "base_uri": "https://localhost:8080/",
          "height": 129
        },
        "outputId": "fe30a511-7ed4-4ce5-90bc-f9b174b6c665"
      },
      "cell_type": "code",
      "source": [
        "trf = transforms.Compose([transforms.ToTensor(),\n",
        "                          transforms.Normalize((0.5, 0.5, 0.5), (0.5, 0.5, 0.5)),\n",
        "                         ])\n",
        "traindataset = datasets.MNIST('~/Mnist_data/', download=True, train=True, transform=trf)\n",
        "\n",
        "testdataset = datasets.MNIST('~/Mnist_data/', download=True, train=False, transform=trf)\n"
      ],
      "execution_count": 2,
      "outputs": [
        {
          "output_type": "stream",
          "text": [
            "Downloading http://yann.lecun.com/exdb/mnist/train-images-idx3-ubyte.gz\n",
            "Downloading http://yann.lecun.com/exdb/mnist/train-labels-idx1-ubyte.gz\n",
            "Downloading http://yann.lecun.com/exdb/mnist/t10k-images-idx3-ubyte.gz\n",
            "Downloading http://yann.lecun.com/exdb/mnist/t10k-labels-idx1-ubyte.gz\n",
            "Processing...\n",
            "Done!\n"
          ],
          "name": "stdout"
        }
      ]
    },
    {
      "metadata": {
        "id": "4q5ziT4en_BF",
        "colab_type": "code",
        "colab": {}
      },
      "cell_type": "code",
      "source": [
        "valid_size=0.2\n",
        "\n",
        "n_train=len(traindataset)\n",
        "indices = list(range(n_train))\n",
        "np.random.shuffle(indices)\n",
        "split = int(np.floor(valid_size*n_train)) #No of train sets\n",
        "\n",
        "train_ind , valid_ind = indices[split:] , indices[:split] #Spliting of indices\n",
        "\n",
        "trainsampler = SubsetRandomSampler(train_ind)\n",
        "validsampler = SubsetRandomSampler(valid_ind)\n",
        "\n",
        "trainloader = torch.utils.data.DataLoader(traindataset, batch_size=40, sampler=trainsampler)\n",
        "validloader = torch.utils.data.DataLoader(traindataset, batch_size=40, sampler=validsampler)\n",
        "testloader = torch.utils.data.DataLoader(testdataset, batch_size=40)"
      ],
      "execution_count": 0,
      "outputs": []
    },
    {
      "metadata": {
        "id": "2nsSGI6BS24e",
        "colab_type": "text"
      },
      "cell_type": "markdown",
      "source": [
        "## Visualizing Data"
      ]
    },
    {
      "metadata": {
        "id": "3jxRR_KeS7uN",
        "colab_type": "code",
        "colab": {}
      },
      "cell_type": "code",
      "source": [
        "import matplotlib.pyplot as plt\n",
        "%matplotlib inline\n",
        "\n",
        "def disp(x):\n",
        "    x = x / 2 + 0.5 #unnormalizing image\n",
        "    plt.imshow(x.numpy().squeeze(), cmap='Greys_r')"
      ],
      "execution_count": 0,
      "outputs": []
    },
    {
      "metadata": {
        "id": "aLRKzJCNvI1R",
        "colab_type": "code",
        "outputId": "046751d6-692e-43fc-e561-40913bf5de6e",
        "colab": {
          "base_uri": "https://localhost:8080/",
          "height": 165
        }
      },
      "cell_type": "code",
      "source": [
        "images , labels = next(iter(trainloader))\n",
        "\n",
        "fig = plt.figure(figsize=(25, 4))\n",
        "\n",
        "for idx in np.arange(10):\n",
        "    ax = fig.add_subplot(2, 20/2, idx+1, xticks=[], yticks=[])\n",
        "    disp(images[idx])\n",
        "    ax.set_title(int(labels[idx]))"
      ],
      "execution_count": 5,
      "outputs": [
        {
          "output_type": "display_data",
          "data": {
            "image/png": "[encoded data removed]",
            "text/plain": [
              "<Figure size 1800x288 with 10 Axes>"
            ]
          },
          "metadata": {
            "tags": []
          }
        }
      ]
    },
    {
      "metadata": {
        "id": "DgV3jRJSI8tI",
        "colab_type": "text"
      },
      "cell_type": "markdown",
      "source": [
        "## Defining  Model, Criterion and Optimizers"
      ]
    },
    {
      "metadata": {
        "id": "Rgz-xNczINOC",
        "colab_type": "code",
        "colab": {}
      },
      "cell_type": "code",
      "source": [
        "#Dropout = 0.2, 1 input layer, 2 hidden layers with ReLU as activation function\n",
        "class MLP_net(nn.Module):\n",
        "    def __init__(self):\n",
        "        \n",
        "        super().__init__()\n",
        "        \n",
        "        self.fc1 = nn.Linear(784,256)\n",
        "        self.fc2 = nn.Linear(256,128)\n",
        "        self.output = nn.Linear(128,10)\n",
        "        self.act = nn.ReLU()\n",
        "        self.dropout = nn.Dropout(0.20)\n",
        "    \n",
        "    def forward(self,x):\n",
        "        x = x.view(x.shape[0],-1)\n",
        "        x = self.dropout(self.act(self.fc1(x)))\n",
        "        x = self.dropout(self.act(self.fc2(x)))\n",
        "        x = self.output(x)\n",
        "        return x\n",
        "\n",
        "model = MLP_net()\n",
        "criterion = nn.CrossEntropyLoss()\n",
        "optimizer = optim.Adam(model.parameters(),lr=0.001)\n",
        "epochs = 80"
      ],
      "execution_count": 0,
      "outputs": []
    },
    {
      "metadata": {
        "id": "nMmZFOQuTzbo",
        "colab_type": "text"
      },
      "cell_type": "markdown",
      "source": [
        "## Training the model"
      ]
    },
    {
      "metadata": {
        "id": "0gBxpJZ0QEEM",
        "colab_type": "code",
        "colab": {}
      },
      "cell_type": "code",
      "source": [
        "# trgpu = torch.cuda.is_available()\n",
        "\n",
        "# if not trgpu:\n",
        "#     print('CUDA is not available')\n",
        "# else:\n",
        "#     print('CUDA is available! Training on GPU ...')"
      ],
      "execution_count": 0,
      "outputs": []
    },
    {
      "metadata": {
        "id": "b8whKETTAdwH",
        "colab_type": "code",
        "outputId": "0fd60697-a71a-430d-ab99-e87e8f9bd541",
        "colab": {
          "base_uri": "https://localhost:8080/",
          "height": 1737
        }
      },
      "cell_type": "code",
      "source": [
        "model.cuda()\n",
        "\n",
        "v_loss_min = np.Inf\n",
        "\n",
        "train_losses, valid_losses = [], []\n",
        "\n",
        "for i in range(1, epochs+1):\n",
        "    \n",
        "    train_loss=0.0\n",
        "    valid_loss=0.0\n",
        "    \n",
        "    model.train()\n",
        "    for data,target in trainloader:\n",
        "        data,target = data.cuda(),target.cuda()\n",
        "        optimizer.zero_grad()\n",
        "        output = model(data)\n",
        "        loss = criterion(output,target)\n",
        "        loss.backward()\n",
        "        optimizer.step()\n",
        "        train_loss += loss.item()\n",
        "\n",
        "    model.eval()\n",
        "    for v_data,v_target in validloader:\n",
        "        v_data,v_target = v_data.cuda(),v_target.cuda()\n",
        "        v_output  = model(v_data)\n",
        "        v_loss = criterion(v_output,v_target)\n",
        "        valid_loss += v_loss.item()\n",
        "        \n",
        "    train_loss = train_loss/len(trainloader)\n",
        "    valid_loss = valid_loss/len(validloader)\n",
        "    \n",
        "    train_losses.append(train_loss)\n",
        "    valid_losses.append(valid_loss)\n",
        "    \n",
        "    print(f'Epoch:{i}/{epochs} || Train Loss:{train_loss} || Valid Loss:{valid_loss}')\n",
        "    \n",
        "    if valid_loss <= v_loss_min :\n",
        "        print(f'Validation Loss decreased {v_loss_min} ==> {valid_loss} , Saving Model....')\n",
        "        torch.save(model.state_dict(), 'model_mnist.pt')\n",
        "        v_loss_min = valid_loss"
      ],
      "execution_count": 8,
      "outputs": [
        {
          "output_type": "stream",
          "text": [
            "Epoch:1/80 || Train Loss:0.4111138063793381 || Valid Loss:0.20998655223598084\n",
            "Validation Loss decreased inf ==> 0.20998655223598084 , Saving Model....\n",
            "Epoch:2/80 || Train Loss:0.22306903617689386 || Valid Loss:0.1618185922068854\n",
            "Validation Loss decreased 0.20998655223598084 ==> 0.1618185922068854 , Saving Model....\n",
            "Epoch:3/80 || Train Loss:0.18103760819959766 || Valid Loss:0.13061207154455284\n",
            "Validation Loss decreased 0.1618185922068854 ==> 0.13061207154455284 , Saving Model....\n",
            "Epoch:4/80 || Train Loss:0.1601353406944933 || Valid Loss:0.1367296986406048\n",
            "Epoch:5/80 || Train Loss:0.14335690754077707 || Valid Loss:0.1230691708686451\n",
            "Validation Loss decreased 0.13061207154455284 ==> 0.1230691708686451 , Saving Model....\n",
            "Epoch:6/80 || Train Loss:0.13312224346833926 || Valid Loss:0.11255059392889961\n",
            "Validation Loss decreased 0.1230691708686451 ==> 0.11255059392889961 , Saving Model....\n",
            "Epoch:7/80 || Train Loss:0.12429950761143119 || Valid Loss:0.10999821241246537\n",
            "Validation Loss decreased 0.11255059392889961 ==> 0.10999821241246537 , Saving Model....\n",
            "Epoch:8/80 || Train Loss:0.12074920488715482 || Valid Loss:0.10067041931130613\n",
            "Validation Loss decreased 0.10999821241246537 ==> 0.10067041931130613 , Saving Model....\n",
            "Epoch:9/80 || Train Loss:0.11344396125505833 || Valid Loss:0.10003673191415147\n",
            "Validation Loss decreased 0.10067041931130613 ==> 0.10003673191415147 , Saving Model....\n",
            "Epoch:10/80 || Train Loss:0.10471851454572365 || Valid Loss:0.11217761908386213\n",
            "Epoch:11/80 || Train Loss:0.10193039090479336 || Valid Loss:0.10255014986149036\n",
            "Epoch:12/80 || Train Loss:0.10022934542959168 || Valid Loss:0.11249798336357344\n",
            "Epoch:13/80 || Train Loss:0.09492791148785425 || Valid Loss:0.0954821583913872\n",
            "Validation Loss decreased 0.10003673191415147 ==> 0.0954821583913872 , Saving Model....\n",
            "Epoch:14/80 || Train Loss:0.09388298187996649 || Valid Loss:0.11536661018035374\n",
            "Epoch:15/80 || Train Loss:0.08994476676423802 || Valid Loss:0.11107573089655488\n",
            "Epoch:16/80 || Train Loss:0.08665928764351216 || Valid Loss:0.11820035641857733\n",
            "Epoch:17/80 || Train Loss:0.0878580306401515 || Valid Loss:0.0921522409239939\n",
            "Validation Loss decreased 0.0954821583913872 ==> 0.0921522409239939 , Saving Model....\n",
            "Epoch:18/80 || Train Loss:0.08239245374614257 || Valid Loss:0.10752364075471026\n",
            "Epoch:19/80 || Train Loss:0.08366307434419772 || Valid Loss:0.10994995543985472\n",
            "Epoch:20/80 || Train Loss:0.08126911267487837 || Valid Loss:0.09788569685161444\n",
            "Epoch:21/80 || Train Loss:0.07963626875520276 || Valid Loss:0.10944110396744994\n",
            "Epoch:22/80 || Train Loss:0.07654834181817326 || Valid Loss:0.09909643692090564\n",
            "Epoch:23/80 || Train Loss:0.07549468024454352 || Valid Loss:0.11351281701082674\n",
            "Epoch:24/80 || Train Loss:0.07787879952593357 || Valid Loss:0.10029703450486219\n",
            "Epoch:25/80 || Train Loss:0.07520277916579896 || Valid Loss:0.09254129238819588\n",
            "Epoch:26/80 || Train Loss:0.07236153964576564 || Valid Loss:0.09727727227681801\n",
            "Epoch:27/80 || Train Loss:0.07228128723004677 || Valid Loss:0.10007043068680407\n",
            "Epoch:28/80 || Train Loss:0.07234106471923951 || Valid Loss:0.09533499868387783\n",
            "Epoch:29/80 || Train Loss:0.07123940164493736 || Valid Loss:0.08831171775018447\n",
            "Validation Loss decreased 0.0921522409239939 ==> 0.08831171775018447 , Saving Model....\n",
            "Epoch:30/80 || Train Loss:0.06543157595619656 || Valid Loss:0.1085179787723852\n",
            "Epoch:31/80 || Train Loss:0.07025251920764883 || Valid Loss:0.10394048787347857\n",
            "Epoch:32/80 || Train Loss:0.07023726716638824 || Valid Loss:0.10108340754057281\n",
            "Epoch:33/80 || Train Loss:0.06379051927728142 || Valid Loss:0.10216197706322419\n",
            "Epoch:34/80 || Train Loss:0.06173905311465811 || Valid Loss:0.0968094541876538\n",
            "Epoch:35/80 || Train Loss:0.06494000767062214 || Valid Loss:0.10009794942171235\n",
            "Epoch:36/80 || Train Loss:0.06349124491059532 || Valid Loss:0.10909320791101587\n",
            "Epoch:37/80 || Train Loss:0.06434161264602153 || Valid Loss:0.10103802176410681\n",
            "Epoch:38/80 || Train Loss:0.06064962664996529 || Valid Loss:0.10388608380118967\n",
            "Epoch:39/80 || Train Loss:0.0643325667190705 || Valid Loss:0.09152740945918292\n",
            "Epoch:40/80 || Train Loss:0.06227622408269478 || Valid Loss:0.09341238986332125\n",
            "Epoch:41/80 || Train Loss:0.062216512512410796 || Valid Loss:0.09569453877338674\n",
            "Epoch:42/80 || Train Loss:0.058930002020382136 || Valid Loss:0.10204366915542172\n",
            "Epoch:43/80 || Train Loss:0.05550124122479247 || Valid Loss:0.09908511151297716\n",
            "Epoch:44/80 || Train Loss:0.05996315719214787 || Valid Loss:0.107103158982621\n",
            "Epoch:45/80 || Train Loss:0.05890591669765248 || Valid Loss:0.08641501419697306\n",
            "Validation Loss decreased 0.08831171775018447 ==> 0.08641501419697306 , Saving Model....\n",
            "Epoch:46/80 || Train Loss:0.05592076617132837 || Valid Loss:0.09442679458811956\n",
            "Epoch:47/80 || Train Loss:0.058515453597941205 || Valid Loss:0.09947912850194067\n",
            "Epoch:48/80 || Train Loss:0.05908827852115185 || Valid Loss:0.1032935418132547\n",
            "Epoch:49/80 || Train Loss:0.0548404341126358 || Valid Loss:0.10079083644960822\n",
            "Epoch:50/80 || Train Loss:0.056341421304193014 || Valid Loss:0.11059010129332213\n",
            "Epoch:51/80 || Train Loss:0.057264564102691415 || Valid Loss:0.10332110771430356\n",
            "Epoch:52/80 || Train Loss:0.05294781961426149 || Valid Loss:0.1081547829748403\n",
            "Epoch:53/80 || Train Loss:0.0582932522604824 || Valid Loss:0.135273569897278\n",
            "Epoch:54/80 || Train Loss:0.05481697320892332 || Valid Loss:0.11497262365940211\n",
            "Epoch:55/80 || Train Loss:0.05979076587181529 || Valid Loss:0.09801985149274212\n",
            "Epoch:56/80 || Train Loss:0.05090700946235302 || Valid Loss:0.10645454092083431\n",
            "Epoch:57/80 || Train Loss:0.05628914061517814 || Valid Loss:0.095426447269856\n",
            "Epoch:58/80 || Train Loss:0.054436455391896746 || Valid Loss:0.1087230430446895\n",
            "Epoch:59/80 || Train Loss:0.05328670970980056 || Valid Loss:0.11814510544041695\n",
            "Epoch:60/80 || Train Loss:0.052333139053771446 || Valid Loss:0.10712064317009208\n",
            "Epoch:61/80 || Train Loss:0.05251339913877511 || Valid Loss:0.10140515918955013\n",
            "Epoch:62/80 || Train Loss:0.0564505257080441 || Valid Loss:0.10420275983352137\n",
            "Epoch:63/80 || Train Loss:0.0515107372169147 || Valid Loss:0.12132482315802917\n",
            "Epoch:64/80 || Train Loss:0.05078750800459602 || Valid Loss:0.12494590953276807\n",
            "Epoch:65/80 || Train Loss:0.054828992697877464 || Valid Loss:0.1033673771807753\n",
            "Epoch:66/80 || Train Loss:0.05095232997070828 || Valid Loss:0.11408007316602682\n",
            "Epoch:67/80 || Train Loss:0.05426294929298365 || Valid Loss:0.09463601453061832\n",
            "Epoch:68/80 || Train Loss:0.049465830951084325 || Valid Loss:0.10465725429263936\n",
            "Epoch:69/80 || Train Loss:0.05069651943093239 || Valid Loss:0.11477678621739264\n",
            "Epoch:70/80 || Train Loss:0.0479401574455081 || Valid Loss:0.11283986234037002\n",
            "Epoch:71/80 || Train Loss:0.04934292630778297 || Valid Loss:0.11966154384643839\n",
            "Epoch:72/80 || Train Loss:0.050654958437865695 || Valid Loss:0.10722927547099516\n",
            "Epoch:73/80 || Train Loss:0.0483658221693698 || Valid Loss:0.10783066646847904\n",
            "Epoch:74/80 || Train Loss:0.05104558262228996 || Valid Loss:0.10679416748756315\n",
            "Epoch:75/80 || Train Loss:0.050127060989577976 || Valid Loss:0.11372759738576255\n",
            "Epoch:76/80 || Train Loss:0.04973782977494276 || Valid Loss:0.11165290835905277\n",
            "Epoch:77/80 || Train Loss:0.04741972791150109 || Valid Loss:0.10492679337332599\n",
            "Epoch:78/80 || Train Loss:0.045045943396283594 || Valid Loss:0.12535640508090334\n",
            "Epoch:79/80 || Train Loss:0.05305579748420769 || Valid Loss:0.12499240176922323\n",
            "Epoch:80/80 || Train Loss:0.047786620325805794 || Valid Loss:0.12197465612691304\n"
          ],
          "name": "stdout"
        }
      ]
    },
    {
      "metadata": {
        "id": "hMRKYE5LTjqY",
        "colab_type": "text"
      },
      "cell_type": "markdown",
      "source": [
        "## Visualizing the Train Loss and Validation Loss"
      ]
    },
    {
      "metadata": {
        "id": "LuGmbbCOTqxC",
        "colab_type": "code",
        "colab": {
          "base_uri": "https://localhost:8080/",
          "height": 284
        },
        "outputId": "5de4bffd-e69e-493a-a564-287d6fccd5cd"
      },
      "cell_type": "code",
      "source": [
        "plt.plot(train_losses, label='Training loss')\n",
        "plt.plot(valid_losses, label='Validation loss')\n",
        "plt.legend(frameon=False)"
      ],
      "execution_count": 9,
      "outputs": [
        {
          "output_type": "execute_result",
          "data": {
            "text/plain": [
              "<matplotlib.legend.Legend at 0x7f616993d1d0>"
            ]
          },
          "metadata": {
            "tags": []
          },
          "execution_count": 9
        },
        {
          "output_type": "display_data",
          "data": {
            "image/png": "[encoded data removed]",
            "text/plain": [
              "<Figure size 432x288 with 1 Axes>"
            ]
          },
          "metadata": {
            "tags": []
          }
        }
      ]
    },
    {
      "metadata": {
        "id": "fzpActTTV425",
        "colab_type": "text"
      },
      "cell_type": "markdown",
      "source": [
        "## Loading the model with lowest validation loss"
      ]
    },
    {
      "metadata": {
        "id": "nvCvKhqdV9aq",
        "colab_type": "code",
        "colab": {}
      },
      "cell_type": "code",
      "source": [
        "model.load_state_dict(torch.load('model_mnist.pt'))"
      ],
      "execution_count": 0,
      "outputs": []
    },
    {
      "metadata": {
        "id": "mM27RMfnX65X",
        "colab_type": "text"
      },
      "cell_type": "markdown",
      "source": [
        "## Testing the model "
      ]
    },
    {
      "metadata": {
        "id": "i9gBX36AmJeU",
        "colab_type": "code",
        "colab": {}
      },
      "cell_type": "code",
      "source": [
        "\n",
        "model.eval()\n",
        "\n",
        "y_pred , y_act = [] ,[]\n",
        "\n",
        "for idx,(data,target) in enumerate(testloader):\n",
        "    data, target = data.cuda(), target.cuda()\n",
        "    output = model(data)\n",
        "    loss = criterion(output,target)\n",
        "    _, pred = torch.max(output, 1)\n",
        "    y_pred.extend(pred.cpu().numpy())\n",
        "    y_act.extend(target.cpu().numpy())\n",
        "\n",
        "    "
      ],
      "execution_count": 0,
      "outputs": []
    },
    {
      "metadata": {
        "id": "TxEl0E5j_mRx",
        "colab_type": "text"
      },
      "cell_type": "markdown",
      "source": [
        "## Classification Report"
      ]
    },
    {
      "metadata": {
        "id": "ilQ9Q0SxaTk8",
        "colab_type": "code",
        "colab": {
          "base_uri": "https://localhost:8080/",
          "height": 335
        },
        "outputId": "0a954c8f-a3c0-47e7-c12e-2532cf3ab2e2"
      },
      "cell_type": "code",
      "source": [
        "from sklearn.metrics import classification_report\n",
        "\n",
        "print(classification_report(y_act, y_pred))"
      ],
      "execution_count": 14,
      "outputs": [
        {
          "output_type": "stream",
          "text": [
            "              precision    recall  f1-score   support\n",
            "\n",
            "           0       0.98      0.99      0.99       980\n",
            "           1       0.99      0.99      0.99      1135\n",
            "           2       0.98      0.97      0.98      1032\n",
            "           3       0.98      0.98      0.98      1010\n",
            "           4       0.97      0.98      0.98       982\n",
            "           5       0.99      0.97      0.98       892\n",
            "           6       0.98      0.98      0.98       958\n",
            "           7       0.98      0.97      0.97      1028\n",
            "           8       0.97      0.98      0.97       974\n",
            "           9       0.97      0.98      0.97      1009\n",
            "\n",
            "   micro avg       0.98      0.98      0.98     10000\n",
            "   macro avg       0.98      0.98      0.98     10000\n",
            "weighted avg       0.98      0.98      0.98     10000\n",
            "\n"
          ],
          "name": "stdout"
        }
      ]
    },
    {
      "metadata": {
        "id": "99zcEcIJ-zFk",
        "colab_type": "code",
        "colab": {}
      },
      "cell_type": "code",
      "source": [
        ""
      ],
      "execution_count": 0,
      "outputs": []
    }
  ]
}